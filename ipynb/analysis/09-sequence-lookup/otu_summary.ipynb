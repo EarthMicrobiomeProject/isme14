{
 "cells": [
  {
   "cell_type": "markdown",
   "metadata": {},
   "source": [
    "**author**: lukethompson@gmail.com<br>\n",
    "**date**: 16 Nov 2016<br>\n",
    "**language**: Python 3.5<br>\n",
    "**conda environment**: emp-py3<br>\n",
    "**license**: unlicensed<br>\n",
    "\n",
    "## otu_summary.ipynb\n",
    "\n",
    "Summarize information on each Deblur OTU in a biom table."
   ]
  },
  {
   "cell_type": "code",
   "execution_count": 1,
   "metadata": {
    "collapsed": true
   },
   "outputs": [],
   "source": [
    "import pandas as pd\n",
    "import numpy as np\n",
    "import biom"
   ]
  },
  {
   "cell_type": "markdown",
   "metadata": {
    "collapsed": true
   },
   "source": [
    "#### Main function: make_otu_summary"
   ]
  },
  {
   "cell_type": "code",
   "execution_count": 6,
   "metadata": {
    "collapsed": true
   },
   "outputs": [],
   "source": [
    "def make_otu_summary(path_table, num_samples, path_otu_summary):\n",
    "    # Read OTU table (must be rarefied)\n",
    "    table = biom.load_table(path_table)\n",
    "    # Get arrays of sample IDs and OTUs (sequences), dicts per OTU of total observations, \n",
    "    # number of samples, list of samples, and taxonomy\n",
    "    otu_total_obs = {}\n",
    "    otu_num_samples = {}\n",
    "    otu_list_samples = {}\n",
    "    samples = table.ids(axis='sample')\n",
    "    otus = table.ids(axis='observation')\n",
    "    for idx, cdat in enumerate(table.iter_data(axis='observation')):\n",
    "        otu_total_obs[otus[idx]] = np.sum(cdat)\n",
    "        otu_num_samples[otus[idx]] = np.sum(cdat > 0)\n",
    "        otu_list_samples[otus[idx]] = samples[np.where(cdat > 0)[0]]\n",
    "    otu_tax = {i: '; '.join(md['taxonomy']) for v, i, md in table.iter(axis='observation')}\n",
    "    # Create Pandas DataFrame of index, sequence, total_obs, num_samples, list_samples\n",
    "    df_otus = pd.DataFrame(index=np.arange(len(otus)))\n",
    "    df_otus['sequence'] = [otus[i] for i in df_otus.index]\n",
    "    df_otus['total_obs'] = [otu_total_obs[seq] for seq in df_otus.sequence]\n",
    "    df_otus['num_samples'] = [otu_num_samples[seq] for seq in df_otus.sequence]\n",
    "    df_otus['list_samples'] = [','.join(otu_list_samples[seq]) for seq in df_otus.sequence]\n",
    "    df_otus['taxonomy'] = [otu_tax[seq] for seq in df_otus.sequence]\n",
    "    # Add columns for total_obs_rank and num_samples_rank\n",
    "    # sort by total_obs, reset index, rename index to total_obs\n",
    "    df_otus = df_otus.sort_values('total_obs', ascending=False).reset_index(drop=True)\n",
    "    df_otus.index.rename('total_obs_rank', inplace=True)\n",
    "    # sort by num_samples, reset index, rename index to total_obs\n",
    "    df_otus = df_otus.sort_values('num_samples', ascending=False).reset_index(drop=False)\n",
    "    df_otus.index.rename('num_samples_rank', inplace=True)\n",
    "    # keep sorted by num_samples, reset index\n",
    "    df_otus = df_otus.reset_index(drop=False)\n",
    "    # Add columns for total_obs_percent and num_samples_percent\n",
    "    df_otus['total_obs_frac'] = df_otus['total_obs'] / df_otus['total_obs'].sum()\n",
    "    df_otus['num_samples_frac'] = df_otus['num_samples'] / num_samples\n",
    "    # Reorder columns\n",
    "    df_otus = df_otus[['sequence', \n",
    "                   'num_samples',\n",
    "                   'num_samples_frac',\n",
    "                   'num_samples_rank',\n",
    "                   'total_obs', \n",
    "                   'total_obs_rank', \n",
    "                   'total_obs_frac',\n",
    "                   'list_samples', \n",
    "                   'taxonomy']]\n",
    "    # Write to tsv\n",
    "    df_otus.to_csv(path_otu_summary, sep='\\t')"
   ]
  },
  {
   "cell_type": "markdown",
   "metadata": {},
   "source": [
    "#### Run for 90bp"
   ]
  },
  {
   "cell_type": "code",
   "execution_count": 7,
   "metadata": {
    "collapsed": false,
    "scrolled": false
   },
   "outputs": [],
   "source": [
    "# input\n",
    "path_table = '~/emp/otu-tables/deblur/emp_deblur_90bp.subset_2k.rare_5000.biom'\n",
    "num_samples = 2000 # 2000 for 90bp, 1856 for 100bp, 975 for 150bp\n",
    "# output\n",
    "path_otu_summary = '~/emp/analyses-otus/otu_summary.emp_deblur_90bp.subset_2k.rare_5000.tsv'\n",
    "\n",
    "make_otu_summary(path_table, num_samples, path_otu_summary)"
   ]
  },
  {
   "cell_type": "markdown",
   "metadata": {},
   "source": [
    "#### Run for 100bp"
   ]
  },
  {
   "cell_type": "code",
   "execution_count": 8,
   "metadata": {
    "collapsed": false
   },
   "outputs": [],
   "source": [
    "# input\n",
    "path_table = '~/emp/otu-tables/deblur/emp_deblur_100bp.subset_2k.rare_5000.biom'\n",
    "num_samples = 1856 # 2000 for 90bp, 1856 for 100bp, 975 for 150bp\n",
    "# output\n",
    "path_otu_summary = '~/emp/analyses-otus/otu_summary.emp_deblur_100bp.subset_2k.rare_5000.tsv'\n",
    "\n",
    "make_otu_summary(path_table, num_samples, path_otu_summary)"
   ]
  },
  {
   "cell_type": "markdown",
   "metadata": {},
   "source": [
    "#### Run for 150bp"
   ]
  },
  {
   "cell_type": "code",
   "execution_count": 9,
   "metadata": {
    "collapsed": false
   },
   "outputs": [],
   "source": [
    "# input\n",
    "path_table = '~/emp/otu-tables/deblur/emp_deblur_150bp.subset_2k.rare_5000.biom'\n",
    "num_samples = 975 # 2000 for 90bp, 1856 for 100bp, 975 for 150bp\n",
    "# output\n",
    "path_otu_summary = '~/emp/analyses-otus/otu_summary.emp_deblur_150bp.subset_2k.rare_5000.tsv'\n",
    "\n",
    "make_otu_summary(path_table, num_samples, path_otu_summary)"
   ]
  },
  {
   "cell_type": "code",
   "execution_count": null,
   "metadata": {
    "collapsed": true
   },
   "outputs": [],
   "source": []
  }
 ],
 "metadata": {
  "anaconda-cloud": {},
  "kernelspec": {
   "display_name": "Python [conda env:emp-py3]",
   "language": "python",
   "name": "conda-env-emp-py3-py"
  },
  "language_info": {
   "codemirror_mode": {
    "name": "ipython",
    "version": 3
   },
   "file_extension": ".py",
   "mimetype": "text/x-python",
   "name": "python",
   "nbconvert_exporter": "python",
   "pygments_lexer": "ipython3",
   "version": "3.5.2"
  }
 },
 "nbformat": 4,
 "nbformat_minor": 0
}
