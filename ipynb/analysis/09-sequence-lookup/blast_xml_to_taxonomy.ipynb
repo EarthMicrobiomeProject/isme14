{
 "cells": [
  {
   "cell_type": "markdown",
   "metadata": {},
   "source": [
    "**author**: lukethompson@gmail.com<br>\n",
    "**date**: 16 Nov 2016<br>\n",
    "**language**: Python 2.7<br>\n",
    "**conda environment**: emp-py2<br>\n",
    "**license**: unlicensed<br>\n",
    "\n",
    "## blast_xml_to_taxonomy.ipynb\n",
    "\n",
    "Takes the XML output of blastn (query: Deblur OTU, database: RDP Release 11, percent ID: 100%), parses it, and creates a file with the query, top RDP lineage (with number of hits having that lineage over total hits), and top-3 RDP species (with number of hits having that species over total hits)."
   ]
  },
  {
   "cell_type": "code",
   "execution_count": 1,
   "metadata": {
    "collapsed": false
   },
   "outputs": [],
   "source": [
    "import pandas as pd\n",
    "import numpy as np\n",
    "import Bio.Blast.NCBIXML\n",
    "from cStringIO import StringIO\n",
    "from __future__ import print_function"
   ]
  },
  {
   "cell_type": "code",
   "execution_count": 5,
   "metadata": {
    "collapsed": false
   },
   "outputs": [],
   "source": [
    "# convert RDP-style lineage to Greengenes-style lineage\n",
    "def rdp_lineage_to_gg(lineage):\n",
    "    d = {}\n",
    "    linlist = lineage.split(';')\n",
    "    for i in np.arange(0, len(linlist), 2):\n",
    "        d[linlist[i+1]] = linlist[i]\n",
    "    linstr = ''\n",
    "    for level in ['domain', 'kingdom', 'phylum', 'class', 'order', 'family', 'genus']:\n",
    "        try:\n",
    "            linstr += level[0] + '__' + d[level].replace('\"', '') + '; '\n",
    "        except:\n",
    "            linstr += level[0] + '__' + '; '\n",
    "    linstr = linstr[:-2]\n",
    "    return(linstr)"
   ]
  },
  {
   "cell_type": "code",
   "execution_count": 6,
   "metadata": {
    "collapsed": true
   },
   "outputs": [],
   "source": [
    "# parse blast xml record\n",
    "def parse_record_alignments_taxonomy(record):\n",
    "    df = pd.DataFrame(columns=('strain', 'lineage'))\n",
    "    for alignment in record.alignments:\n",
    "        strain, lineage = alignment.hit_def.split('   ')\n",
    "        linstr = rdp_lineage_to_gg(lineage)\n",
    "        df = df.append({'strain': strain, 'lineage': linstr}, ignore_index=True)\n",
    "    df['species'] = [(x.split(' ')[0] + ' ' + x.split(' ')[1]).replace(';', '') for x in df.strain]\n",
    "    num_hits = df.shape[0]\n",
    "    vc_species = df.species.value_counts()\n",
    "    vc_lineage = df.lineage.value_counts()\n",
    "    return(num_hits, vc_species, vc_lineage)"
   ]
  },
  {
   "cell_type": "code",
   "execution_count": 7,
   "metadata": {
    "collapsed": false
   },
   "outputs": [],
   "source": [
    "# main function\n",
    "def xml_to_taxonomy(path_xml, path_output):\n",
    "    # read file as single string, generate handle, and parse xml handle to records generator\n",
    "    with open(path_xml) as file:\n",
    "        str_xml = file.read()\n",
    "    handle_xml = StringIO(str_xml)\n",
    "    records = Bio.Blast.NCBIXML.parse(handle_xml)\n",
    "\n",
    "    # write top lineage and top 3 strains for each query\n",
    "    with open(path_output, 'w') as target:\n",
    "        # write header\n",
    "        target.write('query\\tlineage_count\\tspecies_1st_count\\tspecies_2nd_count\\tspecies_3rd_count\\n')\n",
    "        # iterate over records generator\n",
    "        for record in records:\n",
    "            target.write('%s' % record.query)\n",
    "            try:\n",
    "                num_hits, vc_species, vc_lineage = parse_record_alignments_taxonomy(record)\n",
    "            except:\n",
    "                pass\n",
    "            try:\n",
    "                target.write('\\t%s (%s/%s)' % (vc_lineage.index[0], vc_lineage[0], num_hits))\n",
    "            except:\n",
    "                pass\n",
    "            try:\n",
    "                target.write('\\t%s (%s/%s)' % (vc_species.index[0], vc_species[0], num_hits))\n",
    "            except:\n",
    "                pass\n",
    "            try:\n",
    "                target.write('\\t%s (%s/%s)' % (vc_species.index[1], vc_species[1], num_hits))\n",
    "            except:\n",
    "                pass\n",
    "            try:\n",
    "                target.write('\\t%s (%s/%s)' % (vc_species.index[2], vc_species[2], num_hits))\n",
    "            except:\n",
    "                pass\n",
    "            target.write('\\n')"
   ]
  },
  {
   "cell_type": "markdown",
   "metadata": {},
   "source": [
    "#### Run for 90-bp sequences (top 500 by prevalence in 90-bp biom table)"
   ]
  },
  {
   "cell_type": "code",
   "execution_count": 2,
   "metadata": {
    "collapsed": true
   },
   "outputs": [],
   "source": [
    "# note: change cuttlefishh to biocore once branch is merged\n",
    "!curl -LOk https://github.com/cuttlefishh/emp/raw/notebooks/data/sequence-lookup/rdp-taxonomy/otu_seqs_top_500_prev.emp_deblur_90bp.subset_2k.rare_5000.xml\n",
    "path_xml = 'otu_seqs_top_500_prev.emp_deblur_90bp.subset_2k.rare_5000.xml'\n",
    "path_output = 'otu_seqs_top_500_prev.emp_deblur_90bp.subset_2k.rare_5000.tsv'\n",
    "xml_to_taxonomy(path_xml, path_output)"
   ]
  },
  {
   "cell_type": "markdown",
   "metadata": {},
   "source": [
    "#### Run for 100-bp sequences (top 500 by prevalence in 100-bp biom table)"
   ]
  },
  {
   "cell_type": "code",
   "execution_count": 3,
   "metadata": {
    "collapsed": true
   },
   "outputs": [],
   "source": [
    "# note: change cuttlefishh to biocore once branch is merged\n",
    "!curl -LOk https://github.com/cuttlefishh/emp/raw/notebooks/data/sequence-lookup/rdp-taxonomy/otu_seqs_top_500_prev.emp_deblur_100bp.subset_2k.rare_5000.xml\n",
    "path_xml = 'otu_seqs_top_500_prev.emp_deblur_100bp.subset_2k.rare_5000.xml'\n",
    "path_output = 'otu_seqs_top_500_prev.emp_deblur_100bp.subset_2k.rare_5000.tsv'\n",
    "xml_to_taxonomy(path_xml, path_output)"
   ]
  },
  {
   "cell_type": "markdown",
   "metadata": {},
   "source": [
    "#### Run for 150-bp sequences (top 500 by prevalence in 150-bp biom table)"
   ]
  },
  {
   "cell_type": "code",
   "execution_count": 4,
   "metadata": {
    "collapsed": true
   },
   "outputs": [],
   "source": [
    "# note: change cuttlefishh to biocore once branch is merged\n",
    "!curl -LOk https://github.com/cuttlefishh/emp/raw/notebooks/data/sequence-lookup/rdp-taxonomy/otu_seqs_top_500_prev.emp_deblur_150bp.subset_2k.rare_5000.xml\n",
    "path_xml = 'otu_seqs_top_500_prev.emp_deblur_150bp.subset_2k.rare_5000.xml'\n",
    "path_output = 'otu_seqs_top_500_prev.emp_deblur_150bp.subset_2k.rare_5000.tsv'\n",
    "xml_to_taxonomy(path_xml, path_output)"
   ]
  }
 ],
 "metadata": {
  "anaconda-cloud": {},
  "kernelspec": {
   "display_name": "Python [conda env:emp-py2]",
   "language": "python",
   "name": "conda-env-emp-py2-py"
  },
  "language_info": {
   "codemirror_mode": {
    "name": "ipython",
    "version": 2
   },
   "file_extension": ".py",
   "mimetype": "text/x-python",
   "name": "python",
   "nbconvert_exporter": "python",
   "pygments_lexer": "ipython2",
   "version": "2.7.12"
  }
 },
 "nbformat": 4,
 "nbformat_minor": 1
}
