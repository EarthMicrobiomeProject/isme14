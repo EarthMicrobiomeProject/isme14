{
 "cells": [
  {
   "cell_type": "code",
   "execution_count": 1,
   "metadata": {
    "collapsed": false
   },
   "outputs": [
    {
     "name": "stdout",
     "output_type": "stream",
     "text": [
      "discarding /home/jgsanders/miniconda/envs/qiime/bin from PATH\n",
      "prepending /home/jgsanders/miniconda/envs/qiime/bin to PATH\n"
     ]
    }
   ],
   "source": [
    "!source activate qiime\n",
    "import re\n",
    "import sys"
   ]
  },
  {
   "cell_type": "markdown",
   "metadata": {},
   "source": [
    "## Remove eukaryotic sequences from Silva DB\n",
    "\n",
    "Also change 'U' to 'T' to match DNA sequences from EMP"
   ]
  },
  {
   "cell_type": "code",
   "execution_count": null,
   "metadata": {
    "collapsed": true
   },
   "outputs": [],
   "source": [
    "def fix_silva(silva_fp, output_fp):\n",
    "    with open(output_fp, 'w') as f_o:\n",
    "        with open(silva_fp, 'r') as f_i:\n",
    "            is_target = False\n",
    "            for l in f:\n",
    "                if l.startswith('>'):\n",
    "                    is_target = False\n",
    "                    if l.split(' ')[1].startswith('Bacteria'):\n",
    "                        is_target = True\n",
    "                    if l.split(' ')[1].startswith('Archaea'):\n",
    "                        is_target = True\n",
    "                    if is_target:\n",
    "                        f_o.write(l.rstrip() + '\\n')    \n",
    "                else:\n",
    "                    seq = l.rstrip()\n",
    "                    if is_target:\n",
    "                        f_o.write(seq.replace('U','T') + '\\n')\n",
    "                        \n",
    "    return"
   ]
  },
  {
   "cell_type": "code",
   "execution_count": null,
   "metadata": {
    "collapsed": true
   },
   "outputs": [],
   "source": [
    "silva_db_99_fp = 'SILVA_128_SSURef_Nr99_tax_silva.fasta'\n",
    "silva_db_100_fp = 'SILVA_128_SSURef_tax_silva.fasta'\n",
    "\n",
    "fix_silva(silva_db_99_fp, 'SILVA_128_SSURef_Nr99_tax_silva.prok.fasta')\n",
    "fix_silva(silva_db_100_fp, 'SILVA_128_SSURef_tax_silva.prok.fasta')"
   ]
  },
  {
   "cell_type": "markdown",
   "metadata": {},
   "source": [
    "## Search deblur against all (or at least a max of 1000 identical) hits\n",
    "\n",
    "Commands are given in a qsub framework for submission to a Torque cluster"
   ]
  },
  {
   "cell_type": "code",
   "execution_count": 5,
   "metadata": {
    "collapsed": false
   },
   "outputs": [
    {
     "name": "stdout",
     "output_type": "stream",
     "text": [
      "181685.barnacle.ucsd.edu\r\n"
     ]
    }
   ],
   "source": [
    "cmd = ('vsearch --usearch_global /projects/emp/03-otus/04-deblur/emp.90.min25.deblur.seq.fa '\n",
    "       '--id 1.0 '\n",
    "       '--maxaccepts 1000 '\n",
    "       '--maxrejects 32 '\n",
    "       '--db /home/jgsanders/ref_data/gg_13_8_otus/rep_set/99_otus.fasta '\n",
    "       '--uc ~/emp/mapping/Ghits_99_all.uc '\n",
    "       '--dbnotmatched /home/jgsanders/emp/mapping/dbs/gg_99_otus.unmatched.all.fasta '\n",
    "       '--dbmatched /home/jgsanders/emp/mapping/dbs/gg_99_otus.matched.all.fasta '\n",
    "       '--notmatched /home/jgsanders/emp/mapping/Ghits_99_unmatched.all.fasta '\n",
    "       '--matched /home/jgsanders/emp/mapping/Ghits_99_matched.all.fasta')\n",
    "!echo \"source activate qiime; $cmd\" | qsub -k eo -N gg99 -l nodes=1:ppn=32 -l pmem=4gb -l walltime=12:00:00"
   ]
  },
  {
   "cell_type": "code",
   "execution_count": 18,
   "metadata": {
    "collapsed": false
   },
   "outputs": [
    {
     "name": "stdout",
     "output_type": "stream",
     "text": [
      "181687.barnacle.ucsd.edu\r\n"
     ]
    }
   ],
   "source": [
    "cmd = ('vsearch --usearch_global /projects/emp/03-otus/04-deblur/emp.90.min25.deblur.seq.fa '\n",
    "       '--id 1.0 '\n",
    "       '--maxaccepts 1000 '\n",
    "       '--maxrejects 32 '\n",
    "       '--db /home/jgsanders/ref_data/gg_13_8_otus/gg_13_5.fasta '\n",
    "       '--uc ~/emp/mapping/Ghits_100_all.uc '\n",
    "       '--dbnotmatched /home/jgsanders/emp/mapping/dbs/gg_100_otus.unmatched.all.fasta '\n",
    "       '--dbmatched /home/jgsanders/emp/mapping/dbs/gg_100_otus.matched.all.fasta '\n",
    "       '--notmatched /home/jgsanders/emp/mapping/Ghits_100_unmatched.all.fasta '\n",
    "       '--matched /home/jgsanders/emp/mapping/Ghits_100_matched.all.fasta')\n",
    "!echo \"source activate qiime; $cmd\" | qsub -k eo -N gg100 -l nodes=1:ppn=32 -l pmem=4gb -l walltime=12:00:00"
   ]
  },
  {
   "cell_type": "code",
   "execution_count": 26,
   "metadata": {
    "collapsed": false
   },
   "outputs": [
    {
     "name": "stdout",
     "output_type": "stream",
     "text": [
      "181689.barnacle.ucsd.edu\r\n"
     ]
    }
   ],
   "source": [
    "cmd = ('vsearch --usearch_global /projects/emp/03-otus/04-deblur/emp.90.min25.deblur.seq.fa '\n",
    "       '--id 1.0 '\n",
    "       '--maxaccepts 1000 '\n",
    "       '--maxrejects 32 '\n",
    "       '--db /home/jgsanders/emp/mapping/dbs/SILVA_128_SSURef_Nr99_tax_silva.prok.fasta '\n",
    "       '--uc ~/emp/mapping/Shits_99_all.uc '\n",
    "       '--dbnotmatched /home/jgsanders/emp/mapping/dbs/SILVA_128_SSURef_Nr99_tax_silva.prok.unmatched.all.fasta '\n",
    "       '--dbmatched /home/jgsanders/emp/mapping/dbs/SILVA_128_SSURef_Nr99_tax_silva.prok.matched.all.fasta '\n",
    "       '--notmatched /home/jgsanders/emp/mapping/Shits_99_unmatched.all.fasta '\n",
    "       '--matched /home/jgsanders/emp/mapping/Shits_99_matched.all.fasta')\n",
    "\n",
    "!echo \"source activate qiime; $cmd\" | qsub -k eo -N silva99 -l nodes=1:ppn=32 -l pmem=4gb -l walltime=12:00:00"
   ]
  },
  {
   "cell_type": "code",
   "execution_count": 27,
   "metadata": {
    "collapsed": false
   },
   "outputs": [
    {
     "name": "stdout",
     "output_type": "stream",
     "text": [
      "181690.barnacle.ucsd.edu\r\n"
     ]
    }
   ],
   "source": [
    "cmd = ('vsearch --usearch_global /projects/emp/03-otus/04-deblur/emp.90.min25.deblur.seq.fa '\n",
    "       '--id 1.0 '\n",
    "       '--maxaccepts 1000 '\n",
    "       '--maxrejects 32 '\n",
    "       '--db /home/jgsanders/emp/mapping/dbs/SILVA_128_SSURef_tax_silva.prok.fasta '\n",
    "       '--uc ~/emp/mapping/Shits_100_all.uc '\n",
    "       '--dbnotmatched /home/jgsanders/emp/mapping/dbs/SILVA_128_SSURef_tax_silva.prok.unmatched.all.fasta '\n",
    "       '--dbmatched /home/jgsanders/emp/mapping/dbs/SILVA_128_SSURef_tax_silva.prok.matched.all.fasta '\n",
    "       '--notmatched /home/jgsanders/emp/mapping/Shits_100_unmatched.fasta '\n",
    "       '--notmatched /home/jgsanders/emp/mapping/Shits_100_unmatched.all.fasta '\n",
    "       '--matched /home/jgsanders/emp/mapping/Shits_100_matched.all.fasta')\n",
    "\n",
    "!echo \"source activate qiime; $cmd\" | qsub -k eo -N silva100 -l nodes=1:ppn=32 -l pmem=4gb -l walltime=12:00:00"
   ]
  },
  {
   "cell_type": "markdown",
   "metadata": {},
   "source": [
    "## Counting stats for the more exhaustive search"
   ]
  },
  {
   "cell_type": "code",
   "execution_count": 34,
   "metadata": {
    "collapsed": false
   },
   "outputs": [
    {
     "name": "stdout",
     "output_type": "stream",
     "text": [
      "Deblur seqs: 345624\n",
      "GG 99 seqs: 203452\n",
      "SILVA 99 seqs: 576542\n",
      "GG 100 seqs: 1262986\n",
      "SILVA 100 seqs: 1783660\n"
     ]
    }
   ],
   "source": [
    "#get number of original seqs\n",
    "deblur_seqs = !grep -c '>' /projects/emp/03-otus/04-deblur/emp.90.min25.deblur.seq.fa\n",
    "gg_99_seqs = !grep -c '>' /home/jgsanders/ref_data/gg_13_8_otus/rep_set/99_otus.fasta\n",
    "silva_99_seqs = !grep -c '>' /home/jgsanders/emp/mapping/dbs/SILVA_128_SSURef_Nr99_tax_silva.prok.fasta\n",
    "gg_100_seqs = !grep -c '>' /home/jgsanders/ref_data/gg_13_8_otus/gg_13_5.fasta\n",
    "silva_100_seqs = !grep -c '>' /home/jgsanders/emp/mapping/dbs/SILVA_128_SSURef_tax_silva.prok.fasta\n",
    "\n",
    "print('Deblur seqs: {0}\\nGG 99 seqs: {1}\\nSILVA 99 seqs: {2}\\n'\n",
    "      'GG 100 seqs: {3}\\nSILVA 100 seqs: {4}'.format(deblur_seqs[0], gg_99_seqs[0], silva_99_seqs[0],\n",
    "                                                     gg_100_seqs[0], silva_100_seqs[0]))"
   ]
  },
  {
   "cell_type": "code",
   "execution_count": 44,
   "metadata": {
    "collapsed": false,
    "scrolled": true
   },
   "outputs": [
    {
     "name": "stdout",
     "output_type": "stream",
     "text": [
      "GG 100 seqs with Deblur hits: 579156 (45.9%)\n",
      "Deblur seqs matching GG 100: 34807 (10.1%)\n"
     ]
    }
   ],
   "source": [
    "#get number of gg 100 seqs matched\n",
    "deblur_matched_gg = !grep -c '>' /home/jgsanders/emp/mapping/Ghits_100_matched.all.fasta\n",
    "gg_matched_deblur = !grep -c '>' /home/jgsanders/emp/mapping/dbs/gg_100_otus.matched.all.fasta\n",
    "\n",
    "print('GG 100 seqs with Deblur hits: {0} ({1:03.1f}%)'.format(gg_matched_deblur[0], float(gg_matched_deblur[0])/float(gg_100_seqs[0])*100))\n",
    "\n",
    "print('Deblur seqs matching GG 100: {0} ({1:03.1f}%)'.format(deblur_matched_gg[0], float(deblur_matched_gg[0])/float(deblur_seqs[0])*100))"
   ]
  },
  {
   "cell_type": "code",
   "execution_count": 45,
   "metadata": {
    "collapsed": false
   },
   "outputs": [
    {
     "name": "stdout",
     "output_type": "stream",
     "text": [
      "GG 99 seqs with Deblur hits: 121598 (59.8%)\n",
      "Deblur seqs matching GG 99: 32419 (9.4%)\n"
     ]
    }
   ],
   "source": [
    "#get number of gg 99 seqs matched\n",
    "deblur_matched_gg = !grep -c '>' /home/jgsanders/emp/mapping/Ghits_99_matched.all.fasta\n",
    "gg_matched_deblur = !grep -c '>' /home/jgsanders/emp/mapping/dbs/gg_99_otus.matched.all.fasta\n",
    "\n",
    "print('GG 99 seqs with Deblur hits: {0} ({1:03.1f}%)'.format(gg_matched_deblur[0], float(gg_matched_deblur[0])/float(gg_99_seqs[0])*100))\n",
    "\n",
    "print('Deblur seqs matching GG 99: {0} ({1:03.1f}%)'.format(deblur_matched_gg[0], float(deblur_matched_gg[0])/float(deblur_seqs[0])*100))"
   ]
  },
  {
   "cell_type": "code",
   "execution_count": 46,
   "metadata": {
    "collapsed": false,
    "scrolled": true
   },
   "outputs": [
    {
     "name": "stdout",
     "output_type": "stream",
     "text": [
      "Silva 100 seqs with Deblur hits: 797766 (44.7%)\n",
      "Deblur seqs matching Silva 100: 44247 (12.8%)\n"
     ]
    }
   ],
   "source": [
    "#get number of silva 100 seqs matched\n",
    "deblur_matched_silva = !grep -c '>' /home/jgsanders/emp/mapping/Shits_100_matched.all.fasta\n",
    "silva_matched_deblur = !grep -c '>' /home/jgsanders/emp/mapping/dbs/SILVA_128_SSURef_tax_silva.prok.matched.all.fasta\n",
    "\n",
    "print('Silva 100 seqs with Deblur hits: {0} ({1:03.1f}%)'.format(silva_matched_deblur[0], float(silva_matched_deblur[0])/float(silva_100_seqs[0])*100))\n",
    "\n",
    "print('Deblur seqs matching Silva 100: {0} ({1:03.1f}%)'.format(deblur_matched_silva[0], float(deblur_matched_silva[0])/float(deblur_seqs[0])*100))"
   ]
  },
  {
   "cell_type": "code",
   "execution_count": 43,
   "metadata": {
    "collapsed": false,
    "scrolled": true
   },
   "outputs": [
    {
     "name": "stdout",
     "output_type": "stream",
     "text": [
      "Silva 99 seqs with Deblur hits: 361459 (62.7%)\n",
      "Deblur seqs matching Silva 99: 42317 (12.2%)\n"
     ]
    }
   ],
   "source": [
    "#get number of silva 99 seqs matched\n",
    "deblur_matched_silva = !grep -c '>' /home/jgsanders/emp/mapping/Shits_99_matched.all.fasta\n",
    "silva_matched_deblur = !grep -c '>' /home/jgsanders/emp/mapping/dbs/SILVA_128_SSURef_Nr99_tax_silva.prok.matched.all.fasta\n",
    "\n",
    "print('Silva 99 seqs with Deblur hits: {0} ({1:03.1f}%)'.format(silva_matched_deblur[0], float(silva_matched_deblur[0])/float(silva_99_seqs[0])*100))\n",
    "\n",
    "print('Deblur seqs matching Silva 99: {0} ({1:03.1f}%)'.format(deblur_matched_silva[0], float(deblur_matched_silva[0])/float(deblur_seqs[0])*100))"
   ]
  },
  {
   "cell_type": "markdown",
   "metadata": {
    "collapsed": true
   },
   "source": [
    "## Are matching sets nonredundant?"
   ]
  },
  {
   "cell_type": "code",
   "execution_count": 47,
   "metadata": {
    "collapsed": true
   },
   "outputs": [],
   "source": [
    "import pandas as pd"
   ]
  },
  {
   "cell_type": "code",
   "execution_count": 54,
   "metadata": {
    "collapsed": false
   },
   "outputs": [],
   "source": [
    "gg100_df = pd.read_csv('../Ghits_100_all.uc',sep='\\t',header=None)\n",
    "gg100_hits = set(gg100_df[8])"
   ]
  },
  {
   "cell_type": "code",
   "execution_count": 55,
   "metadata": {
    "collapsed": true
   },
   "outputs": [],
   "source": [
    "silva100_df = pd.read_csv('../Shits_100.uc',sep='\\t',header=None)\n",
    "silva100_hits = set(silva100_df[8])"
   ]
  },
  {
   "cell_type": "code",
   "execution_count": 56,
   "metadata": {
    "collapsed": false
   },
   "outputs": [
    {
     "data": {
      "text/plain": [
       "34807"
      ]
     },
     "execution_count": 56,
     "metadata": {},
     "output_type": "execute_result"
    }
   ],
   "source": [
    "len(gg100_hits)"
   ]
  },
  {
   "cell_type": "code",
   "execution_count": 57,
   "metadata": {
    "collapsed": false
   },
   "outputs": [
    {
     "data": {
      "text/plain": [
       "44247"
      ]
     },
     "execution_count": 57,
     "metadata": {},
     "output_type": "execute_result"
    }
   ],
   "source": [
    "len(silva100_hits)"
   ]
  },
  {
   "cell_type": "code",
   "execution_count": 58,
   "metadata": {
    "collapsed": false
   },
   "outputs": [
    {
     "data": {
      "text/plain": [
       "44473"
      ]
     },
     "execution_count": 58,
     "metadata": {},
     "output_type": "execute_result"
    }
   ],
   "source": [
    "len(gg100_hits | silva100_hits)"
   ]
  },
  {
   "cell_type": "code",
   "execution_count": 59,
   "metadata": {
    "collapsed": false
   },
   "outputs": [
    {
     "data": {
      "text/plain": [
       "9666"
      ]
     },
     "execution_count": 59,
     "metadata": {},
     "output_type": "execute_result"
    }
   ],
   "source": [
    "len(silva100_hits - gg100_hits)"
   ]
  },
  {
   "cell_type": "code",
   "execution_count": 60,
   "metadata": {
    "collapsed": false
   },
   "outputs": [
    {
     "data": {
      "text/plain": [
       "226"
      ]
     },
     "execution_count": 60,
     "metadata": {},
     "output_type": "execute_result"
    }
   ],
   "source": [
    "len(gg100_hits - silva100_hits)"
   ]
  },
  {
   "cell_type": "code",
   "execution_count": null,
   "metadata": {
    "collapsed": true
   },
   "outputs": [],
   "source": []
  }
 ],
 "metadata": {
  "kernelspec": {
   "display_name": "Python 2",
   "language": "python",
   "name": "python2"
  },
  "language_info": {
   "codemirror_mode": {
    "name": "ipython",
    "version": 2
   },
   "file_extension": ".py",
   "mimetype": "text/x-python",
   "name": "python",
   "nbconvert_exporter": "python",
   "pygments_lexer": "ipython2",
   "version": "2.7.13"
  }
 },
 "nbformat": 4,
 "nbformat_minor": 0
}
