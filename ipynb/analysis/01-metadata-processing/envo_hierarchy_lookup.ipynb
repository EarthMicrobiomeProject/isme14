{
 "cells": [
  {
   "cell_type": "markdown",
   "metadata": {},
   "source": [
    "**author**: lukethompson@gmail.com<br>\n",
    "**date**: 14 Nov 2016<br>\n",
    "**language**: Python 3.5<br>\n",
    "**conda enviroment**: emp-py3<br>\n",
    "**license**: unlicensed<br>\n",
    "\n",
    "## envo_hierarchy_lookup.ipynb"
   ]
  },
  {
   "cell_type": "code",
   "execution_count": 1,
   "metadata": {
    "collapsed": true
   },
   "outputs": [],
   "source": [
    "import pandas as pd\n",
    "import numpy as np\n",
    "import re"
   ]
  },
  {
   "cell_type": "code",
   "execution_count": 2,
   "metadata": {
    "collapsed": true
   },
   "outputs": [],
   "source": [
    "path_envobiome = '~/emp/ontology-envo/envo_biome_name_is_a.txt'"
   ]
  },
  {
   "cell_type": "code",
   "execution_count": 3,
   "metadata": {
    "collapsed": true
   },
   "outputs": [],
   "source": [
    "pd.options.mode.chained_assignment = None"
   ]
  },
  {
   "cell_type": "code",
   "execution_count": 4,
   "metadata": {
    "collapsed": true
   },
   "outputs": [],
   "source": [
    "def term_to_envo_hierarchy(term, dictionary):\n",
    "    hierarchy = [term]\n",
    "    while True:\n",
    "        hierarchy.insert(0, dictionary[term])\n",
    "        term = dictionary[term]\n",
    "        if term not in dictionary.keys():\n",
    "            break\n",
    "    return hierarchy"
   ]
  },
  {
   "cell_type": "code",
   "execution_count": 5,
   "metadata": {
    "collapsed": true
   },
   "outputs": [],
   "source": [
    "def term_parent_to_dict(path):\n",
    "    # read envo biome file, split into two dataframes, merge, create dictionary\n",
    "    df = pd.read_csv(path, header=None)\n",
    "    # name dataframe\n",
    "    df_name = df.iloc[np.arange(0,df.shape[0],2)]\n",
    "    df_name.reset_index(inplace=True, drop=True)\n",
    "    for index, row in df_name.iterrows():\n",
    "        df_name.iloc[index] = re.sub('name: ', '', str(row[0]))\n",
    "    # is_a dataframe\n",
    "    df_is_a = df.iloc[np.arange(1,df.shape[0],2)]\n",
    "    df_is_a.reset_index(inplace=True, drop=True)\n",
    "    for index, row in df_is_a.iterrows():\n",
    "        df_is_a.iloc[index] = re.sub('is_a: ', '', str(row[0]))\n",
    "    # merged dataframe\n",
    "    df_name_is_a = pd.merge(df_name, df_is_a, left_index=True, right_index=True)\n",
    "    df_name_is_a.columns = ['name', 'is_a']\n",
    "    # dictionary for lookup\n",
    "    dictionary = dict(zip(df_name_is_a.name, df_name_is_a.is_a))\n",
    "    return dictionary"
   ]
  },
  {
   "cell_type": "code",
   "execution_count": 6,
   "metadata": {
    "collapsed": false
   },
   "outputs": [],
   "source": [
    "dict_name_is_a = term_parent_to_dict(path_envobiome)"
   ]
  },
  {
   "cell_type": "code",
   "execution_count": 8,
   "metadata": {
    "collapsed": false,
    "scrolled": true
   },
   "outputs": [
    {
     "data": {
      "text/plain": [
       "['environmental system', 'biome', 'terrestrial biome', 'desert biome']"
      ]
     },
     "execution_count": 8,
     "metadata": {},
     "output_type": "execute_result"
    }
   ],
   "source": [
    "term_to_envo_hierarchy('desert biome', dict_name_is_a)"
   ]
  },
  {
   "cell_type": "markdown",
   "metadata": {
    "collapsed": true
   },
   "source": [
    "### Bash script to generate input text files"
   ]
  },
  {
   "cell_type": "markdown",
   "metadata": {},
   "source": [
    "    #!/bin/bash\n",
    "\n",
    "    # \"\"\"\"\"\"\"\"\"\"\"\"\"\"\"\"\"\"\"\"\n",
    "    # Contact: jkanbar@ucsd.edu (jad kanbar for questions)\n",
    "    # The file 'envo.obo' has to be in the same directory as this script.\n",
    "    # This script filters the envo ontology, by taking the file 'envo.obo' and\n",
    "    # and outputting two files in same directory as the script:\n",
    "    # 1.) envo_name_is_a_relationship_full.txt\n",
    "    # 2.) envo_name_is_a.txt.\n",
    "    #\n",
    "    # An OBO stanza in 'envo.obo' looks like this:\n",
    "    #    [term]\n",
    "    #    tag: value\n",
    "    #    tag: value\n",
    "    #    tag: value\n",
    "    # Relevant ontology terms have this term relationship:\n",
    "    #    name: value\n",
    "    #    is_a: value\n",
    "    #    relatinship: value\n",
    "    #\n",
    "    # 1.) 'envo_name_is_a_relationship_full.txt' outputs:\n",
    "    #      name: value\n",
    "    #      is_a: value\n",
    "    #      relationship: value\n",
    "    # Example:\n",
    "    #      name: waterfall\n",
    "    #      is_a: hydrographic feature\n",
    "    #      relationship: part_of stream\n",
    "    #\n",
    "    # 'envo_name_is_a_relationship_full.txt' outputs all relevant\n",
    "    # EMP envo ontology classes including:\n",
    "    # environmental feature (EMP metadata category: env_feature)\n",
    "    # environmental matter (EMP metadata category: env_matter)\n",
    "    # environmental system (EMP metadata category: env_biome)\n",
    "    # Not all terms have both an 'is_a: value' and 'relationship: value',\n",
    "    # but each term must have at least one. Each 'name: value' may have multiple\n",
    "    # associated 'is_a: value' and relationship: value' indicating a term's link to\n",
    "    # multiple class types (i.e. env_feature and env_biome). Spaces do not separate\n",
    "    # terms.\n",
    "    #\n",
    "    # 2.) 'envo_name_is_a.txt' outputs:\n",
    "    #      name: *biome\n",
    "    #      is_a: value\n",
    "    # Example:\n",
    "    #      name: polar desert biome\n",
    "    #      is_a: desert biome\n",
    "    #\n",
    "    # 'envo_name_is_a.txt' outputs only class environmental system\n",
    "    # (EMP metadata category: env_biome).\n",
    "    # Each 'name: *biome' has only one associated 'is_a: value'. Spaces do not\n",
    "    # separate terms.\n",
    "    #\n",
    "    # \"\"\"\"\"\"\"\"\"\"\"\"\"\"\"\"\"\"\"\"\n",
    "\n",
    "\n",
    "    envo_parse () {\n",
    "      echo $1\n",
    "\n",
    "      # Retrieves all <tag-value pair> in order for all terms starting with:\n",
    "      # name: value\n",
    "      # is_a:value\n",
    "      # relationship: value\n",
    "      awk '{if($1 == \"name:\") print $0 ; if($1 == \"is_a:\") print $0;\n",
    "            if($1 == \"relationship:\") print $0}' $1 > tmp1\n",
    "\n",
    "      # Removes all terms that only have one <tag-value pair> 'name: value'\n",
    "      # and not followed by 'is_a: value' or 'relationship: value'\n",
    "      # these represent obsolete terms, defined by the <tag-value pair>\n",
    "      # 'is_obsolete: value'.\n",
    "      awk '{a[NR]=$1; b[NR]=$0}END{for(i=1;i<=NR;i++){\n",
    "            if(a[i] == \"name:\" && a[i+1] == \"name:\") print \"\";\n",
    "            else print b[i]}}' tmp1 > tmp2\n",
    "\n",
    "      # Removes empty lines left from above command\n",
    "      sed '/^$/d' tmp2 | sed '$d' > tmp3\n",
    "\n",
    "      # Removes all ENVO terms described within all <tag-value pair>\n",
    "      awk '{gsub(\"ENVO:\", \"\"); gsub(\"[0-9]\", \"\");\n",
    "            gsub(\" ! \", \"\"); print}' tmp3 > tmp4\n",
    "\n",
    "      # Removed last two lines which are:\n",
    "      # name: has_increased_levels_of\n",
    "      # is_a: has_parthas_part\n",
    "      # These last two lines do not hold meaningful envo ontology information.\n",
    "      sed 'N;$!P;$!D;$d' tmp4 > envo_name_is_a_relationship_full.txt\n",
    "\n",
    "      # To retrieve all biome pairs of 'name: value' and 'is_a: value' these\n",
    "      # terms below do not have the biome suffix appended to them in the envo\n",
    "      # ontology. To ease the sort for biome terms, \"biome\" was appended to the\n",
    "      # end of these 'name: value' terms and later removed.\n",
    "      awk '{if ($0 == (\"name: neritic supra-littoral zone\") ||\n",
    "            $0 == (\"name: nertic littoral zone\") ||\n",
    "            $0 == (\"name: neritic sub-littoral zone\"))\n",
    "            print $0 \" biome\";\n",
    "            else print $0}' envo_name_is_a_relationship_full.txt > tmp5\n",
    "\n",
    "      # Sort for all 'name: *biome' and 'is_a: value' pairs in order.\n",
    "      awk '{a[NR]=$NF; b[NR]=$1; c[NR]=$0}END{for(i=1;i<=NR;i++){\n",
    "            if(a[i] == \"biome\" && b[i+1] == \"is_a:\")\n",
    "            print c[i] \"\\n\" c[i+1]}}' tmp5 > tmp6\n",
    "\n",
    "      # Remove \"biome\" suffix appended to these 'name: value' terms from above.\n",
    "      awk '{if ($0 == (\"name: neritic supra-littoral zone biome\") ||\n",
    "            $0 == (\"name: nertic littoral zone biome\") ||\n",
    "            $0 == (\"name: neritic sub-littoral zone biome\"))\n",
    "            print $1,$2,$3,$4; else print $0}d' tmp6 > envo_name_is_a.txt\n",
    "\n",
    "      rm tmp1 tmp2 tmp3 tmp4 tmp5 tmp6\n",
    "    }\n",
    "\n",
    "    envo_parse envo.obo\n"
   ]
  }
 ],
 "metadata": {
  "anaconda-cloud": {},
  "kernelspec": {
   "display_name": "Python [conda env:emp-py3]",
   "language": "python",
   "name": "conda-env-emp-py3-py"
  },
  "language_info": {
   "codemirror_mode": {
    "name": "ipython",
    "version": 3
   },
   "file_extension": ".py",
   "mimetype": "text/x-python",
   "name": "python",
   "nbconvert_exporter": "python",
   "pygments_lexer": "ipython3",
   "version": "3.5.2"
  }
 },
 "nbformat": 4,
 "nbformat_minor": 0
}
