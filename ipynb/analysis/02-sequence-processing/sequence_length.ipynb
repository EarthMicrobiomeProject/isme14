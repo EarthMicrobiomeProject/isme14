{
 "cells": [
  {
   "cell_type": "markdown",
   "metadata": {},
   "source": [
    "**author**: lukethompson@gmail.com<br>\n",
    "**date**: 23 Nov 2016<br>\n",
    "**language**: Python 3.5<br>\n",
    "**conda enviroment**: emp-py3<br>\n",
    "**license**: unlicensed<br>\n",
    "\n",
    "## sequence_length.ipynb\n",
    "\n",
    "Distribution of study sequence lengths after split_libraries_fastq.py and removal of any sequences with adapters."
   ]
  },
  {
   "cell_type": "code",
   "execution_count": 1,
   "metadata": {
    "collapsed": false
   },
   "outputs": [],
   "source": [
    "import pandas as pd\n",
    "import numpy as np\n",
    "import re\n",
    "import matplotlib.pyplot as plt\n",
    "import seaborn as sns\n",
    "%matplotlib inline"
   ]
  },
  {
   "cell_type": "code",
   "execution_count": 2,
   "metadata": {
    "collapsed": false
   },
   "outputs": [],
   "source": [
    "files = !ls ~/emp/metadata-sequences/*_filtered_seqs.length.txt"
   ]
  },
  {
   "cell_type": "code",
   "execution_count": 4,
   "metadata": {
    "collapsed": false
   },
   "outputs": [],
   "source": [
    "df = pd.DataFrame()\n",
    "for path in files:\n",
    "    df_single = pd.read_csv(path, header=None)\n",
    "    x = re.match('/Users/luke.thompson/emp/metadata-sequences/([0-9]*)_filtered_seqs.length.txt', path)\n",
    "    study = x.groups()[0]\n",
    "    df_single.columns = [study]\n",
    "    df = pd.concat([df, df_single.describe()], axis=1)"
   ]
  },
  {
   "cell_type": "code",
   "execution_count": 5,
   "metadata": {
    "collapsed": true
   },
   "outputs": [],
   "source": [
    "df.to_csv('~/emp/metadata-sequences/length_filtered_seqs_adaptor_cleanup.csv', index_label='study_id')"
   ]
  },
  {
   "cell_type": "code",
   "execution_count": 6,
   "metadata": {
    "collapsed": false,
    "scrolled": true
   },
   "outputs": [
    {
     "data": {
      "text/html": [
       "<div>\n",
       "<table border=\"1\" class=\"dataframe\">\n",
       "  <thead>\n",
       "    <tr style=\"text-align: right;\">\n",
       "      <th></th>\n",
       "      <th>1001</th>\n",
       "      <th>1024</th>\n",
       "      <th>1030</th>\n",
       "      <th>1031</th>\n",
       "      <th>1033</th>\n",
       "      <th>1034</th>\n",
       "      <th>1035</th>\n",
       "      <th>1036</th>\n",
       "      <th>1037</th>\n",
       "      <th>1038</th>\n",
       "      <th>...</th>\n",
       "      <th>895</th>\n",
       "      <th>905</th>\n",
       "      <th>910</th>\n",
       "      <th>925</th>\n",
       "      <th>933</th>\n",
       "      <th>940</th>\n",
       "      <th>945</th>\n",
       "      <th>958</th>\n",
       "      <th>963</th>\n",
       "      <th>990</th>\n",
       "    </tr>\n",
       "  </thead>\n",
       "  <tbody>\n",
       "    <tr>\n",
       "      <th>count</th>\n",
       "      <td>428891.0</td>\n",
       "      <td>1748559.0</td>\n",
       "      <td>2.759098e+07</td>\n",
       "      <td>1.835733e+06</td>\n",
       "      <td>1.357128e+06</td>\n",
       "      <td>1.145258e+07</td>\n",
       "      <td>1.940081e+07</td>\n",
       "      <td>1.356474e+07</td>\n",
       "      <td>4.394206e+06</td>\n",
       "      <td>3.808519e+06</td>\n",
       "      <td>...</td>\n",
       "      <td>257569.000000</td>\n",
       "      <td>4.646697e+06</td>\n",
       "      <td>4.108408e+06</td>\n",
       "      <td>6.288561e+06</td>\n",
       "      <td>6.108392e+07</td>\n",
       "      <td>9.699086e+06</td>\n",
       "      <td>5.914723e+07</td>\n",
       "      <td>4.507585e+06</td>\n",
       "      <td>1.301667e+07</td>\n",
       "      <td>9.736478e+07</td>\n",
       "    </tr>\n",
       "    <tr>\n",
       "      <th>mean</th>\n",
       "      <td>151.0</td>\n",
       "      <td>151.0</td>\n",
       "      <td>9.710053e+01</td>\n",
       "      <td>9.706472e+01</td>\n",
       "      <td>9.744952e+01</td>\n",
       "      <td>9.850946e+01</td>\n",
       "      <td>9.646700e+01</td>\n",
       "      <td>9.685766e+01</td>\n",
       "      <td>9.703890e+01</td>\n",
       "      <td>9.694813e+01</td>\n",
       "      <td>...</td>\n",
       "      <td>147.937799</td>\n",
       "      <td>1.489229e+02</td>\n",
       "      <td>1.499534e+02</td>\n",
       "      <td>8.808240e+01</td>\n",
       "      <td>9.803802e+01</td>\n",
       "      <td>9.934798e+01</td>\n",
       "      <td>1.471374e+02</td>\n",
       "      <td>1.483690e+02</td>\n",
       "      <td>9.948682e+01</td>\n",
       "      <td>1.485324e+02</td>\n",
       "    </tr>\n",
       "    <tr>\n",
       "      <th>std</th>\n",
       "      <td>0.0</td>\n",
       "      <td>0.0</td>\n",
       "      <td>5.201202e+00</td>\n",
       "      <td>5.172705e+00</td>\n",
       "      <td>4.882912e+00</td>\n",
       "      <td>4.014423e+00</td>\n",
       "      <td>5.424851e+00</td>\n",
       "      <td>5.408512e+00</td>\n",
       "      <td>5.265942e+00</td>\n",
       "      <td>5.305672e+00</td>\n",
       "      <td>...</td>\n",
       "      <td>7.176171</td>\n",
       "      <td>6.281878e+00</td>\n",
       "      <td>4.341778e+00</td>\n",
       "      <td>4.760352e+00</td>\n",
       "      <td>5.268941e+00</td>\n",
       "      <td>2.485887e+00</td>\n",
       "      <td>6.175203e+00</td>\n",
       "      <td>7.735735e+00</td>\n",
       "      <td>2.191143e+00</td>\n",
       "      <td>6.283632e+00</td>\n",
       "    </tr>\n",
       "    <tr>\n",
       "      <th>min</th>\n",
       "      <td>151.0</td>\n",
       "      <td>151.0</td>\n",
       "      <td>7.600000e+01</td>\n",
       "      <td>7.600000e+01</td>\n",
       "      <td>7.600000e+01</td>\n",
       "      <td>7.600000e+01</td>\n",
       "      <td>7.600000e+01</td>\n",
       "      <td>7.600000e+01</td>\n",
       "      <td>7.600000e+01</td>\n",
       "      <td>7.600000e+01</td>\n",
       "      <td>...</td>\n",
       "      <td>114.000000</td>\n",
       "      <td>1.140000e+02</td>\n",
       "      <td>1.140000e+02</td>\n",
       "      <td>6.900000e+01</td>\n",
       "      <td>7.600000e+01</td>\n",
       "      <td>7.600000e+01</td>\n",
       "      <td>1.140000e+02</td>\n",
       "      <td>1.140000e+02</td>\n",
       "      <td>7.600000e+01</td>\n",
       "      <td>1.140000e+02</td>\n",
       "    </tr>\n",
       "    <tr>\n",
       "      <th>25%</th>\n",
       "      <td>151.0</td>\n",
       "      <td>151.0</td>\n",
       "      <td>9.500000e+01</td>\n",
       "      <td>9.500000e+01</td>\n",
       "      <td>9.600000e+01</td>\n",
       "      <td>1.000000e+02</td>\n",
       "      <td>9.400000e+01</td>\n",
       "      <td>9.500000e+01</td>\n",
       "      <td>9.500000e+01</td>\n",
       "      <td>9.500000e+01</td>\n",
       "      <td>...</td>\n",
       "      <td>151.000000</td>\n",
       "      <td>1.510000e+02</td>\n",
       "      <td>1.510000e+02</td>\n",
       "      <td>9.000000e+01</td>\n",
       "      <td>1.000000e+02</td>\n",
       "      <td>1.000000e+02</td>\n",
       "      <td>1.500000e+02</td>\n",
       "      <td>1.510000e+02</td>\n",
       "      <td>1.000000e+02</td>\n",
       "      <td>1.510000e+02</td>\n",
       "    </tr>\n",
       "    <tr>\n",
       "      <th>50%</th>\n",
       "      <td>151.0</td>\n",
       "      <td>151.0</td>\n",
       "      <td>1.000000e+02</td>\n",
       "      <td>1.000000e+02</td>\n",
       "      <td>1.000000e+02</td>\n",
       "      <td>1.000000e+02</td>\n",
       "      <td>1.000000e+02</td>\n",
       "      <td>1.000000e+02</td>\n",
       "      <td>1.000000e+02</td>\n",
       "      <td>1.000000e+02</td>\n",
       "      <td>...</td>\n",
       "      <td>151.000000</td>\n",
       "      <td>1.510000e+02</td>\n",
       "      <td>1.510000e+02</td>\n",
       "      <td>9.000000e+01</td>\n",
       "      <td>1.000000e+02</td>\n",
       "      <td>1.000000e+02</td>\n",
       "      <td>1.500000e+02</td>\n",
       "      <td>1.510000e+02</td>\n",
       "      <td>1.000000e+02</td>\n",
       "      <td>1.510000e+02</td>\n",
       "    </tr>\n",
       "    <tr>\n",
       "      <th>75%</th>\n",
       "      <td>151.0</td>\n",
       "      <td>151.0</td>\n",
       "      <td>1.000000e+02</td>\n",
       "      <td>1.000000e+02</td>\n",
       "      <td>1.000000e+02</td>\n",
       "      <td>1.000000e+02</td>\n",
       "      <td>1.000000e+02</td>\n",
       "      <td>1.000000e+02</td>\n",
       "      <td>1.000000e+02</td>\n",
       "      <td>1.000000e+02</td>\n",
       "      <td>...</td>\n",
       "      <td>151.000000</td>\n",
       "      <td>1.510000e+02</td>\n",
       "      <td>1.510000e+02</td>\n",
       "      <td>9.000000e+01</td>\n",
       "      <td>1.000000e+02</td>\n",
       "      <td>1.000000e+02</td>\n",
       "      <td>1.500000e+02</td>\n",
       "      <td>1.510000e+02</td>\n",
       "      <td>1.000000e+02</td>\n",
       "      <td>1.510000e+02</td>\n",
       "    </tr>\n",
       "    <tr>\n",
       "      <th>max</th>\n",
       "      <td>151.0</td>\n",
       "      <td>151.0</td>\n",
       "      <td>1.000000e+02</td>\n",
       "      <td>1.000000e+02</td>\n",
       "      <td>1.000000e+02</td>\n",
       "      <td>1.000000e+02</td>\n",
       "      <td>1.000000e+02</td>\n",
       "      <td>1.000000e+02</td>\n",
       "      <td>1.000000e+02</td>\n",
       "      <td>1.000000e+02</td>\n",
       "      <td>...</td>\n",
       "      <td>151.000000</td>\n",
       "      <td>1.510000e+02</td>\n",
       "      <td>1.510000e+02</td>\n",
       "      <td>9.000000e+01</td>\n",
       "      <td>1.000000e+02</td>\n",
       "      <td>1.000000e+02</td>\n",
       "      <td>1.500000e+02</td>\n",
       "      <td>1.510000e+02</td>\n",
       "      <td>1.000000e+02</td>\n",
       "      <td>1.510000e+02</td>\n",
       "    </tr>\n",
       "  </tbody>\n",
       "</table>\n",
       "<p>8 rows × 97 columns</p>\n",
       "</div>"
      ],
      "text/plain": [
       "           1001       1024          1030          1031          1033  \\\n",
       "count  428891.0  1748559.0  2.759098e+07  1.835733e+06  1.357128e+06   \n",
       "mean      151.0      151.0  9.710053e+01  9.706472e+01  9.744952e+01   \n",
       "std         0.0        0.0  5.201202e+00  5.172705e+00  4.882912e+00   \n",
       "min       151.0      151.0  7.600000e+01  7.600000e+01  7.600000e+01   \n",
       "25%       151.0      151.0  9.500000e+01  9.500000e+01  9.600000e+01   \n",
       "50%       151.0      151.0  1.000000e+02  1.000000e+02  1.000000e+02   \n",
       "75%       151.0      151.0  1.000000e+02  1.000000e+02  1.000000e+02   \n",
       "max       151.0      151.0  1.000000e+02  1.000000e+02  1.000000e+02   \n",
       "\n",
       "               1034          1035          1036          1037          1038  \\\n",
       "count  1.145258e+07  1.940081e+07  1.356474e+07  4.394206e+06  3.808519e+06   \n",
       "mean   9.850946e+01  9.646700e+01  9.685766e+01  9.703890e+01  9.694813e+01   \n",
       "std    4.014423e+00  5.424851e+00  5.408512e+00  5.265942e+00  5.305672e+00   \n",
       "min    7.600000e+01  7.600000e+01  7.600000e+01  7.600000e+01  7.600000e+01   \n",
       "25%    1.000000e+02  9.400000e+01  9.500000e+01  9.500000e+01  9.500000e+01   \n",
       "50%    1.000000e+02  1.000000e+02  1.000000e+02  1.000000e+02  1.000000e+02   \n",
       "75%    1.000000e+02  1.000000e+02  1.000000e+02  1.000000e+02  1.000000e+02   \n",
       "max    1.000000e+02  1.000000e+02  1.000000e+02  1.000000e+02  1.000000e+02   \n",
       "\n",
       "           ...                 895           905           910           925  \\\n",
       "count      ...       257569.000000  4.646697e+06  4.108408e+06  6.288561e+06   \n",
       "mean       ...          147.937799  1.489229e+02  1.499534e+02  8.808240e+01   \n",
       "std        ...            7.176171  6.281878e+00  4.341778e+00  4.760352e+00   \n",
       "min        ...          114.000000  1.140000e+02  1.140000e+02  6.900000e+01   \n",
       "25%        ...          151.000000  1.510000e+02  1.510000e+02  9.000000e+01   \n",
       "50%        ...          151.000000  1.510000e+02  1.510000e+02  9.000000e+01   \n",
       "75%        ...          151.000000  1.510000e+02  1.510000e+02  9.000000e+01   \n",
       "max        ...          151.000000  1.510000e+02  1.510000e+02  9.000000e+01   \n",
       "\n",
       "                933           940           945           958           963  \\\n",
       "count  6.108392e+07  9.699086e+06  5.914723e+07  4.507585e+06  1.301667e+07   \n",
       "mean   9.803802e+01  9.934798e+01  1.471374e+02  1.483690e+02  9.948682e+01   \n",
       "std    5.268941e+00  2.485887e+00  6.175203e+00  7.735735e+00  2.191143e+00   \n",
       "min    7.600000e+01  7.600000e+01  1.140000e+02  1.140000e+02  7.600000e+01   \n",
       "25%    1.000000e+02  1.000000e+02  1.500000e+02  1.510000e+02  1.000000e+02   \n",
       "50%    1.000000e+02  1.000000e+02  1.500000e+02  1.510000e+02  1.000000e+02   \n",
       "75%    1.000000e+02  1.000000e+02  1.500000e+02  1.510000e+02  1.000000e+02   \n",
       "max    1.000000e+02  1.000000e+02  1.500000e+02  1.510000e+02  1.000000e+02   \n",
       "\n",
       "                990  \n",
       "count  9.736478e+07  \n",
       "mean   1.485324e+02  \n",
       "std    6.283632e+00  \n",
       "min    1.140000e+02  \n",
       "25%    1.510000e+02  \n",
       "50%    1.510000e+02  \n",
       "75%    1.510000e+02  \n",
       "max    1.510000e+02  \n",
       "\n",
       "[8 rows x 97 columns]"
      ]
     },
     "execution_count": 6,
     "metadata": {},
     "output_type": "execute_result"
    }
   ],
   "source": [
    "df"
   ]
  },
  {
   "cell_type": "code",
   "execution_count": 8,
   "metadata": {
    "collapsed": false,
    "scrolled": true
   },
   "outputs": [
    {
     "data": {
      "text/plain": [
       "100.0    48\n",
       "151.0    29\n",
       "150.0     6\n",
       "141.0     2\n",
       "138.0     2\n",
       "90.0      2\n",
       "145.0     2\n",
       "137.0     1\n",
       "143.0     1\n",
       "140.0     1\n",
       "132.0     1\n",
       "101.0     1\n",
       "131.0     1\n",
       "Name: 50%, dtype: int64"
      ]
     },
     "execution_count": 8,
     "metadata": {},
     "output_type": "execute_result"
    }
   ],
   "source": [
    "df.loc['50%'].round().value_counts()"
   ]
  },
  {
   "cell_type": "code",
   "execution_count": 10,
   "metadata": {
    "collapsed": false,
    "scrolled": true
   },
   "outputs": [
    {
     "data": {
      "text/plain": [
       "925      90.0\n",
       "1521     90.0\n",
       "1579    100.0\n",
       "810     100.0\n",
       "1580    100.0\n",
       "Name: 50%, dtype: float64"
      ]
     },
     "execution_count": 10,
     "metadata": {},
     "output_type": "execute_result"
    }
   ],
   "source": [
    "df.loc['50%'].sort_values().head()"
   ]
  },
  {
   "cell_type": "code",
   "execution_count": 11,
   "metadata": {
    "collapsed": false
   },
   "outputs": [
    {
     "name": "stdout",
     "output_type": "stream",
     "text": [
      "sequence length after adaptor clean-up -- 97 EMP studies\n"
     ]
    },
    {
     "data": {
      "image/png": "[encoded data removed]",
      "text/plain": [
       "<matplotlib.figure.Figure at 0x1045f1198>"
      ]
     },
     "metadata": {},
     "output_type": "display_data"
    }
   ],
   "source": [
    "print('sequence length after adaptor clean-up -- %s EMP studies' % df.shape[1])\n",
    "plt.hist(df.loc['50%'].round(), bins=np.arange(df.loc['mean'].round().min()-0.5,df.loc['mean'].round().max()+1.5,1))\n",
    "plt.xlabel('Median sequence length of sequences in study (bp)')\n",
    "plt.ylabel('Number of studies')\n",
    "plt.savefig('/Users/luke.thompson/emp/metadata-sequences/median_length_filtered_seqs_adaptor_cleanup.pdf')"
   ]
  }
 ],
 "metadata": {
  "anaconda-cloud": {},
  "kernelspec": {
   "display_name": "Python [conda env:python3]",
   "language": "python",
   "name": "conda-env-python3-py"
  },
  "language_info": {
   "codemirror_mode": {
    "name": "ipython",
    "version": 3
   },
   "file_extension": ".py",
   "mimetype": "text/x-python",
   "name": "python",
   "nbconvert_exporter": "python",
   "pygments_lexer": "ipython3",
   "version": "3.5.2"
  }
 },
 "nbformat": 4,
 "nbformat_minor": 0
}
